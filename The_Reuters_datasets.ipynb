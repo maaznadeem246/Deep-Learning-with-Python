{
  "nbformat": 4,
  "nbformat_minor": 0,
  "metadata": {
    "colab": {
      "name": "The Reuters datasets.ipynb",
      "version": "0.3.2",
      "provenance": [],
      "collapsed_sections": []
    },
    "kernelspec": {
      "name": "python3",
      "display_name": "Python 3"
    }
  },
  "cells": [
    {
      "cell_type": "code",
      "metadata": {
        "id": "H3A1l6cX6Nk3",
        "colab_type": "code",
        "colab": {
          "base_uri": "https://localhost:8080/",
          "height": 34
        },
        "outputId": "bd793a36-30e7-443d-b45c-b40ce1e327c8"
      },
      "source": [
        "from keras.datasets import reuters\n",
        "import numpy as np\n",
        "\n",
        "np_load_old = np.load\n",
        "\n",
        "# modify the default parameters of np.load\n",
        "np.load = lambda *a,**k: np_load_old(*a, allow_pickle=True, **k)\n",
        "\n",
        "(train_data, train_labels), (test_data, test_labels)  = reuters.load_data(num_words=10000)"
      ],
      "execution_count": 1,
      "outputs": [
        {
          "output_type": "stream",
          "text": [
            "Using TensorFlow backend.\n"
          ],
          "name": "stderr"
        }
      ]
    },
    {
      "cell_type": "code",
      "metadata": {
        "id": "DyEnrRNw7cip",
        "colab_type": "code",
        "outputId": "dd9874cf-0d35-4fc1-d1fa-9d0e441f649b",
        "colab": {
          "base_uri": "https://localhost:8080/",
          "height": 34
        }
      },
      "source": [
        "len(train_data)"
      ],
      "execution_count": 2,
      "outputs": [
        {
          "output_type": "execute_result",
          "data": {
            "text/plain": [
              "8982"
            ]
          },
          "metadata": {
            "tags": []
          },
          "execution_count": 2
        }
      ]
    },
    {
      "cell_type": "code",
      "metadata": {
        "id": "8cJbtkas8ekW",
        "colab_type": "code",
        "outputId": "d987a696-4f73-4885-af3d-f8ab269c3659",
        "colab": {
          "base_uri": "https://localhost:8080/",
          "height": 34
        }
      },
      "source": [
        "len(test_data)"
      ],
      "execution_count": 3,
      "outputs": [
        {
          "output_type": "execute_result",
          "data": {
            "text/plain": [
              "2246"
            ]
          },
          "metadata": {
            "tags": []
          },
          "execution_count": 3
        }
      ]
    },
    {
      "cell_type": "code",
      "metadata": {
        "id": "n1TP-dv88gZN",
        "colab_type": "code",
        "outputId": "61bdb3f8-bd84-4042-ef74-da8f1f841aaf",
        "colab": {
          "base_uri": "https://localhost:8080/",
          "height": 544
        }
      },
      "source": [
        "train_data[10]"
      ],
      "execution_count": 4,
      "outputs": [
        {
          "output_type": "execute_result",
          "data": {
            "text/plain": [
              "[1,\n",
              " 245,\n",
              " 273,\n",
              " 207,\n",
              " 156,\n",
              " 53,\n",
              " 74,\n",
              " 160,\n",
              " 26,\n",
              " 14,\n",
              " 46,\n",
              " 296,\n",
              " 26,\n",
              " 39,\n",
              " 74,\n",
              " 2979,\n",
              " 3554,\n",
              " 14,\n",
              " 46,\n",
              " 4689,\n",
              " 4329,\n",
              " 86,\n",
              " 61,\n",
              " 3499,\n",
              " 4795,\n",
              " 14,\n",
              " 61,\n",
              " 451,\n",
              " 4329,\n",
              " 17,\n",
              " 12]"
            ]
          },
          "metadata": {
            "tags": []
          },
          "execution_count": 4
        }
      ]
    },
    {
      "cell_type": "code",
      "metadata": {
        "id": "F6MJIEWR8kLw",
        "colab_type": "code",
        "colab": {}
      },
      "source": [
        "word_index = reuters.get_word_index()\n",
        "reverse_word_index = dict([(value, key) for (key, value) in word_index.items()])\n",
        "decode_newswire = ' '.join([reverse_word_index.get(i - 3, '?') for i in train_data[0]])"
      ],
      "execution_count": 0,
      "outputs": []
    },
    {
      "cell_type": "code",
      "metadata": {
        "id": "baT-UM1j9dUf",
        "colab_type": "code",
        "outputId": "9fd882fe-e0b0-4ca8-fffe-cc7ec3aa0152",
        "colab": {
          "base_uri": "https://localhost:8080/",
          "height": 34
        }
      },
      "source": [
        "train_labels[10]"
      ],
      "execution_count": 6,
      "outputs": [
        {
          "output_type": "execute_result",
          "data": {
            "text/plain": [
              "3"
            ]
          },
          "metadata": {
            "tags": []
          },
          "execution_count": 6
        }
      ]
    },
    {
      "cell_type": "code",
      "metadata": {
        "id": "0pUEKCVD9tTF",
        "colab_type": "code",
        "colab": {}
      },
      "source": [
        "import numpy as np\n",
        "\n",
        "def vectorize_sequences(sequences, dimmension=10000):\n",
        "  results = np.zeros((len(sequences),dimmension))\n",
        "  for i, sequence in enumerate(sequences):\n",
        "    results[i, sequence] = 1\n",
        "  return results\n",
        "\n",
        "x_train = vectorize_sequences(train_data)\n",
        "x_test = vectorize_sequences(test_data)"
      ],
      "execution_count": 0,
      "outputs": []
    },
    {
      "cell_type": "code",
      "metadata": {
        "id": "HQAf-wqhACPc",
        "colab_type": "code",
        "colab": {}
      },
      "source": [
        "def to_one_hot(labels, dimension=46):\n",
        "  results = np.zeros((len(labels), dimension))\n",
        "  for i, label in enumerate(labels):\n",
        "    results[i, label] = 1\n",
        "  return results\n",
        "one_hot_train_labels = to_one_hot(train_labels)\n",
        "one_hot_test_labels =  to_one_hot(test_labels)"
      ],
      "execution_count": 0,
      "outputs": []
    },
    {
      "cell_type": "code",
      "metadata": {
        "id": "Or073hTAAPKW",
        "colab_type": "code",
        "colab": {}
      },
      "source": [
        "from keras.utils.np_utils import to_categorical\n",
        "\n",
        "one_hot_train_labels = to_categorical(train_labels)\n",
        "one_hot_test_labels = to_categorical(test_labels)"
      ],
      "execution_count": 0,
      "outputs": []
    },
    {
      "cell_type": "code",
      "metadata": {
        "id": "7EXDujBwgDKP",
        "colab_type": "code",
        "colab": {
          "base_uri": "https://localhost:8080/",
          "height": 105
        },
        "outputId": "fc81035a-f89c-4021-c7e7-02c3e45ccdc8"
      },
      "source": [
        "from keras import models\n",
        "from keras import layers\n",
        "\n",
        "model = models.Sequential()\n",
        "model.add(layers.Dense(64, activation='relu', input_shape=(10000, )))\n",
        "model.add(layers.Dense(64, activation='relu'))\n",
        "model.add(layers.Dense(46, activation='softmax'))\n",
        "\n",
        "model.compile(optimizer='rmsprop', loss='categorical_crossentropy', metrics=['accuracy'])\n"
      ],
      "execution_count": 11,
      "outputs": [
        {
          "output_type": "stream",
          "text": [
            "W0821 19:04:08.100793 139974100715392 deprecation_wrapper.py:119] From /usr/local/lib/python3.6/dist-packages/keras/optimizers.py:790: The name tf.train.Optimizer is deprecated. Please use tf.compat.v1.train.Optimizer instead.\n",
            "\n",
            "W0821 19:04:08.130245 139974100715392 deprecation_wrapper.py:119] From /usr/local/lib/python3.6/dist-packages/keras/backend/tensorflow_backend.py:3295: The name tf.log is deprecated. Please use tf.math.log instead.\n",
            "\n"
          ],
          "name": "stderr"
        }
      ]
    },
    {
      "cell_type": "code",
      "metadata": {
        "id": "NrHztRYBkAKg",
        "colab_type": "code",
        "colab": {}
      },
      "source": [
        "x_val = x_train[:1000]\n",
        "partial_x_train = x_train[1000:]\n",
        "\n",
        "y_val = one_hot_train_labels[:1000]\n",
        "partial_y_train = one_hot_train_labels[1000:]\n"
      ],
      "execution_count": 0,
      "outputs": []
    },
    {
      "cell_type": "code",
      "metadata": {
        "id": "etDA2Al5lQZL",
        "colab_type": "code",
        "colab": {
          "base_uri": "https://localhost:8080/",
          "height": 819
        },
        "outputId": "ddbe3b4f-2990-4802-96bf-5f39d4846d76"
      },
      "source": [
        "history = model.fit(partial_x_train,\n",
        "                   partial_y_train,\n",
        "                   epochs=20,\n",
        "                   batch_size=512,\n",
        "                   validation_data=(x_val, y_val))"
      ],
      "execution_count": 13,
      "outputs": [
        {
          "output_type": "stream",
          "text": [
            "W0821 19:10:02.282011 139974100715392 deprecation.py:323] From /usr/local/lib/python3.6/dist-packages/tensorflow/python/ops/math_grad.py:1250: add_dispatch_support.<locals>.wrapper (from tensorflow.python.ops.array_ops) is deprecated and will be removed in a future version.\n",
            "Instructions for updating:\n",
            "Use tf.where in 2.0, which has the same broadcast rule as np.where\n",
            "W0821 19:10:02.391445 139974100715392 deprecation_wrapper.py:119] From /usr/local/lib/python3.6/dist-packages/keras/backend/tensorflow_backend.py:986: The name tf.assign_add is deprecated. Please use tf.compat.v1.assign_add instead.\n",
            "\n"
          ],
          "name": "stderr"
        },
        {
          "output_type": "stream",
          "text": [
            "Train on 7982 samples, validate on 1000 samples\n",
            "Epoch 1/20\n",
            "7982/7982 [==============================] - 2s 248us/step - loss: 2.5437 - acc: 0.5269 - val_loss: 1.7295 - val_acc: 0.6390\n",
            "Epoch 2/20\n",
            "7982/7982 [==============================] - 1s 134us/step - loss: 1.4210 - acc: 0.7112 - val_loss: 1.3146 - val_acc: 0.7200\n",
            "Epoch 3/20\n",
            "7982/7982 [==============================] - 1s 144us/step - loss: 1.0580 - acc: 0.7804 - val_loss: 1.1525 - val_acc: 0.7510\n",
            "Epoch 4/20\n",
            "7982/7982 [==============================] - 1s 169us/step - loss: 0.8337 - acc: 0.8239 - val_loss: 1.0564 - val_acc: 0.7660\n",
            "Epoch 5/20\n",
            "7982/7982 [==============================] - 1s 167us/step - loss: 0.6643 - acc: 0.8611 - val_loss: 0.9763 - val_acc: 0.7880\n",
            "Epoch 6/20\n",
            "7982/7982 [==============================] - 1s 149us/step - loss: 0.5296 - acc: 0.8909 - val_loss: 0.9384 - val_acc: 0.7920\n",
            "Epoch 7/20\n",
            "7982/7982 [==============================] - 1s 170us/step - loss: 0.4266 - acc: 0.9093 - val_loss: 0.9337 - val_acc: 0.7970\n",
            "Epoch 8/20\n",
            "7982/7982 [==============================] - 1s 172us/step - loss: 0.3423 - acc: 0.9266 - val_loss: 0.8814 - val_acc: 0.8090\n",
            "Epoch 9/20\n",
            "7982/7982 [==============================] - 1s 171us/step - loss: 0.2869 - acc: 0.9375 - val_loss: 0.9073 - val_acc: 0.8070\n",
            "Epoch 10/20\n",
            "7982/7982 [==============================] - 1s 170us/step - loss: 0.2390 - acc: 0.9458 - val_loss: 0.8926 - val_acc: 0.8160\n",
            "Epoch 11/20\n",
            "7982/7982 [==============================] - 1s 170us/step - loss: 0.2044 - acc: 0.9489 - val_loss: 0.9061 - val_acc: 0.8170\n",
            "Epoch 12/20\n",
            "7982/7982 [==============================] - 1s 169us/step - loss: 0.1826 - acc: 0.9505 - val_loss: 0.9376 - val_acc: 0.8180\n",
            "Epoch 13/20\n",
            "7982/7982 [==============================] - 1s 172us/step - loss: 0.1633 - acc: 0.9564 - val_loss: 0.9697 - val_acc: 0.8120\n",
            "Epoch 14/20\n",
            "7982/7982 [==============================] - 1s 171us/step - loss: 0.1483 - acc: 0.9551 - val_loss: 0.9619 - val_acc: 0.8020\n",
            "Epoch 15/20\n",
            "7982/7982 [==============================] - 1s 176us/step - loss: 0.1380 - acc: 0.9559 - val_loss: 0.9668 - val_acc: 0.8230\n",
            "Epoch 16/20\n",
            "7982/7982 [==============================] - 1s 179us/step - loss: 0.1275 - acc: 0.9582 - val_loss: 0.9607 - val_acc: 0.8110\n",
            "Epoch 17/20\n",
            "7982/7982 [==============================] - 1s 171us/step - loss: 0.1237 - acc: 0.9587 - val_loss: 0.9892 - val_acc: 0.8060\n",
            "Epoch 18/20\n",
            "7982/7982 [==============================] - 1s 169us/step - loss: 0.1202 - acc: 0.9569 - val_loss: 1.0241 - val_acc: 0.8150\n",
            "Epoch 19/20\n",
            "7982/7982 [==============================] - 1s 167us/step - loss: 0.1172 - acc: 0.9584 - val_loss: 1.0141 - val_acc: 0.8110\n",
            "Epoch 20/20\n",
            "7982/7982 [==============================] - 1s 168us/step - loss: 0.1081 - acc: 0.9595 - val_loss: 1.0552 - val_acc: 0.7980\n"
          ],
          "name": "stdout"
        }
      ]
    },
    {
      "cell_type": "code",
      "metadata": {
        "id": "JRx0Z1DWljt4",
        "colab_type": "code",
        "colab": {
          "base_uri": "https://localhost:8080/",
          "height": 295
        },
        "outputId": "ccfbae4e-d1ff-4b97-cdcc-10b4c7c7713b"
      },
      "source": [
        "import matplotlib.pyplot as plt\n",
        "\n",
        "loss = history.history['loss']\n",
        "val_loss = history.history['val_loss']\n",
        "\n",
        "epochs = range(1, len(loss) + 1)\n",
        "\n",
        "plt.plot(epochs, loss, 'bo', label='Training loss')\n",
        "plt.plot(epochs, val_loss, 'b', label='Validation loss')\n",
        "plt.title('Training and Validation Loss')\n",
        "plt.xlabel('Epochs')\n",
        "plt.ylabel('Loss')\n",
        "plt.legend()\n",
        "plt.show()"
      ],
      "execution_count": 16,
      "outputs": [
        {
          "output_type": "display_data",
          "data": {
            "image/png": "[encoded data removed]",
            "text/plain": [
              "<Figure size 432x288 with 1 Axes>"
            ]
          },
          "metadata": {
            "tags": []
          }
        }
      ]
    },
    {
      "cell_type": "code",
      "metadata": {
        "id": "L_DdCFOnmipJ",
        "colab_type": "code",
        "colab": {
          "base_uri": "https://localhost:8080/",
          "height": 295
        },
        "outputId": "d4d2aed0-791c-4e5d-bcfc-c43f52ac80ac"
      },
      "source": [
        "plt.clf()\n",
        "\n",
        "acc = history.history['acc']\n",
        "val_acc = history.history['val_acc']\n",
        "\n",
        "\n",
        "plt.plot(epochs, acc, 'bo', label='Training acc')\n",
        "plt.plot(epochs, val_acc, 'b', label='Validation acc')\n",
        "plt.title('Training and Validation accuracy')\n",
        "plt.xlabel('Epochs')\n",
        "plt.ylabel('acc')\n",
        "plt.legend()\n",
        "plt.show()"
      ],
      "execution_count": 18,
      "outputs": [
        {
          "output_type": "display_data",
          "data": {
            "image/png": "[encoded data removed]",
            "text/plain": [
              "<Figure size 432x288 with 1 Axes>"
            ]
          },
          "metadata": {
            "tags": []
          }
        }
      ]
    },
    {
      "cell_type": "code",
      "metadata": {
        "id": "pARzZ3YUnEZ9",
        "colab_type": "code",
        "colab": {}
      },
      "source": [
        ""
      ],
      "execution_count": 0,
      "outputs": []
    }
  ]
}